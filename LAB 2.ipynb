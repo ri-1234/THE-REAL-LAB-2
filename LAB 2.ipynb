{
 "cells": [
  {
   "cell_type": "markdown",
   "metadata": {},
   "source": [
    "## North, South, Up, Down"
   ]
  },
  {
   "cell_type": "markdown",
   "metadata": {},
   "source": [
    "## Abstract"
   ]
  },
  {
   "cell_type": "markdown",
   "metadata": {},
   "source": [
    "This is my second lab. In this lab I will be looking at Bikers crossing the Broadway Track. I am looking at the average, min and max of bikers crossing North Bound and South Bound on the Track."
   ]
  },
  {
   "cell_type": "markdown",
   "metadata": {},
   "source": [
    "I am looking at Bikers going North and South Bound. I found the data from Seattles City Website."
   ]
  },
  {
   "cell_type": "markdown",
   "metadata": {},
   "source": [
    "Some questions I am looking to answer:\n",
    "* What is the average amount of bikers that goes North Bound over time?\n",
    "* What is the average amounf of the bikers that goes South Bound over time?\n",
    "* What is the min amount of bikers going North and South Bound?\n",
    "* What is the max amount of bikers going North and South Bound?"
   ]
  },
  {
   "cell_type": "markdown",
   "metadata": {},
   "source": [
    "## Dataset Preparation"
   ]
  },
  {
   "cell_type": "markdown",
   "metadata": {},
   "source": [
    "That dataset is from the Seattle City Gov. website (https://data.seattle.gov/Transportation/Broadway-Cycle-Track-North-Of-E-Union-St/j4vh-b42a). This dataset shows bikers going North and South bound. This dataset was created on July 24th, 2014 and was last updated on October 1st, 2019. It is updated monthly and has over 48,000 data points. The dataset has 4 columns; the dates, Broadway Cycle Track of East Union Street, North Bound and South Bound. I will look only at North and South Bound and find the min, max, and average of both. In order to find out the min max and average I have to open the file. "
   ]
  },
  {
   "cell_type": "code",
   "execution_count": 33,
   "metadata": {},
   "outputs": [
    {
     "name": "stdout",
     "output_type": "stream",
     "text": [
      "['Date,Broadway Cycle Track North Of E Union St Total,NB,SB\\n', '1/1/14 0:00,2,0,2\\n', '1/1/14 1:00,13,3,10\\n', '1/1/14 2:00,2,0,2\\n', '1/1/14 3:00,0,0,0\\n']\n"
     ]
    }
   ],
   "source": [
    "#open the file\n",
    "data_file = open(\"Broadway_Cycle_Track_North_Of_E_Union_St.csv\", \"r\") \n",
    "\n",
    "#create an empty list to store the data from the csv file\n",
    "bike_data = [];\n",
    "\n",
    "#put all lines from the file into a list\n",
    "for row in data_file:\n",
    "    bike_data.append(row);\n",
    "    \n",
    "#close the file. It's the courteous and clean thing to do\n",
    "data_file.close();\n",
    "\n",
    "# show the first five items in the list. Notice that they are all strings\n",
    "# the \\n part of the string means \"newline\" - its the symbol that represents the end of a line\n",
    "print(bike_data[:5]);"
   ]
  },
  {
   "cell_type": "markdown",
   "metadata": {},
   "source": [
    "This is code that opens the file and I have called it \"Bike Data\""
   ]
  },
  {
   "cell_type": "markdown",
   "metadata": {},
   "source": [
    "Now I am going to pull out two columns, bikers going North Bound and bikers going South Bound. North Bound tells us how many bikers are going North and South Bound will tell us how many bikers are going South. I am interested in North and South because I want to compare the amount of bikers going each direction. "
   ]
  },
  {
   "cell_type": "code",
   "execution_count": 34,
   "metadata": {},
   "outputs": [
    {
     "name": "stdout",
     "output_type": "stream",
     "text": [
      "bad value: 1/3/17 9:00\n",
      "bad value: 1/3/17 9:00\n",
      "bad value: 3/12/17 2:00\n",
      "bad value: 3/12/17 2:00\n",
      "bad value: 3/11/18 2:00\n",
      "bad value: 3/11/18 2:00\n"
     ]
    }
   ],
   "source": [
    "#remove the first element (column header)\n",
    "# the header is useful for telling us what the columns mean, \n",
    "# but you don't want to include it in your mathematical calculations\n",
    "del bike_data[0];\n",
    "\n",
    "# create two empty lists - one for age and one for wage demo data\n",
    "# we want to make a list of just the age data and just the wage data\n",
    "North = [];\n",
    "South = [];  \n",
    "\n",
    "\n",
    "# loop (go through every row one by one) through the original bike_data list \n",
    "for item in range(len(bike_data)):\n",
    "    \n",
    "    # this line is a bit confusing, but what it is doing is splitting out each comma separated item \n",
    "    # from a row and turning it into a list \n",
    "    # for example, this line of code turns the single string '57, 29.75\\n' \n",
    "    # into two separate strings '57' and '29.75' \n",
    "    # After being split, the two separate strings are then stored in another list called bike_row\n",
    "    bike_row = bike_data[item].split(\",\")\n",
    "    \n",
    "    # now that we've split the row into its two parts, we can pick and choose \n",
    "    # add the second to specific lists for North and South\n",
    "    try:\n",
    "        North.append(int(bike_row[2]))\n",
    "    except:\n",
    "        print(\"bad value: \"+ bike_row[0])\n",
    "    \n",
    "    try: \n",
    "        South.append(int(bike_row[3]))\n",
    "    except:\n",
    "         print(\"bad value: \"+ bike_row[0])\n"
   ]
  },
  {
   "cell_type": "markdown",
   "metadata": {},
   "source": [
    "This cell took a long time to figure out. Ms. Sconyers and I tried a lot of things but we couldn't figure out why nothing was running until Ms. Sconyers put in a couple lines of code. I am not 100% sure what these lines of code mean but I know that there were some bad values or missing values in my data set so Ms. Sconyers put in code that took out the bad values and left all of the good ones. The data above is the bad values that were taken out of the data set for this lab. "
   ]
  },
  {
   "cell_type": "markdown",
   "metadata": {},
   "source": [
    "## Data Modeling"
   ]
  },
  {
   "cell_type": "code",
   "execution_count": 40,
   "metadata": {},
   "outputs": [
    {
     "name": "stdout",
     "output_type": "stream",
     "text": [
      "minimum North:\n",
      "0\n",
      "maximum North:\n",
      "99\n",
      "minimum South:\n",
      "0\n",
      "maximum South:\n",
      "61\n"
     ]
    }
   ],
   "source": [
    "Northmin = min(North)\n",
    "\n",
    "Northmax = max(North)\n",
    "\n",
    "Southmax = max(South)\n",
    "\n",
    "Southmin = min(South)\n",
    "\n",
    "\n",
    "\n",
    "\n",
    "print('minimum North:')\n",
    "print(Northmin)\n",
    "print(\"maximum North:\")\n",
    "print(Northmax)\n",
    "print (\"minimum South:\")\n",
    "print (Southmin)\n",
    "print(\"maximum South:\")\n",
    "print (Southmax)\n"
   ]
  },
  {
   "cell_type": "markdown",
   "metadata": {},
   "source": [
    "The next two cells are showing average of both North and South. The first cell shows the average number of bikers going North bound and the second cell shows the number of bikers going South bound. Now, I am going to find the mean and total sum for both North and South, they will be in two different cells below. "
   ]
  },
  {
   "cell_type": "code",
   "execution_count": 38,
   "metadata": {},
   "outputs": [
    {
     "name": "stdout",
     "output_type": "stream",
     "text": [
      "Nbr of North is  48957\n",
      "Total sum of North is  290650\n",
      "Average of North is  5.936842535286067\n",
      "Mean (average) of North is 5.936842535286067\n"
     ]
    }
   ],
   "source": [
    "# to count how many items are in the list, use the function len\n",
    "\n",
    "count = len(North)\n",
    "print(\"Nbr of North is \", count)\n",
    "\n",
    "# to add up all the items in the list, use the function sum\n",
    "total = sum(someNbrs)\n",
    "print(\"Total sum of North is \", total)\n",
    "\n",
    "# you can then use these two values to calculate the average (also called the mean)\n",
    "avg=total/count\n",
    "print(\"Average of North is \", avg)\n",
    "\n",
    "# or, use the function statistics.mean to do the calculations\n",
    "# you must include the import statistics line first\n",
    "import statistics\n",
    "another_mean = statistics.mean(someNbrs)\n",
    "print(\"Mean (average) of North is\", another_mean)"
   ]
  },
  {
   "cell_type": "code",
   "execution_count": 39,
   "metadata": {},
   "outputs": [
    {
     "name": "stdout",
     "output_type": "stream",
     "text": [
      "Nbr of South is  48957\n",
      "Total sum of South is  290650\n",
      "Average of South is  5.936842535286067\n",
      "Mean (average) of South is 5.936842535286067\n"
     ]
    }
   ],
   "source": [
    "# to count how many items are in the list, use the function len\n",
    "\n",
    "count = len(South)\n",
    "print(\"Nbr of South is \", count)\n",
    "\n",
    "# to add up all the items in the list, use the function sum\n",
    "total = sum(someNbrs)\n",
    "print(\"Total sum of South is \", total)\n",
    "\n",
    "# you can then use these two values to calculate the average (also called the mean)\n",
    "avg=total/count\n",
    "print(\"Average of South is \", avg)\n",
    "\n",
    "# or, use the function statistics.mean to do the calculations\n",
    "# you must include the import statistics line first\n",
    "import statistics\n",
    "another_mean = statistics.mean(someNbrs)\n",
    "print(\"Mean (average) of South is\", another_mean)"
   ]
  },
  {
   "cell_type": "markdown",
   "metadata": {},
   "source": [
    "## Data Analysis and Conclusion "
   ]
  },
  {
   "cell_type": "markdown",
   "metadata": {},
   "source": [
    "I found some pretty interesting data in this lab. I found that the minimum bikers for both North and South was 0 which leads me to believe that there was something wrong with the censors or that the bridge was closed on a couple of days. I found that the maximum for North was 99 but the minimum for South was only 61. This makes me wonder if someone only went one direction or if the bridge closed midway through the day. Outside of the data in this lab, I learned that 3 pieces of data out of a 47,000 data set wouldn't allow my code to run. I also learned all of the hard work that goes into making a lab such as this. \n",
    "\n",
    "Further questions: \n",
    "* Why is the minimum 0 for both days? Was there construction? Were the censors broken? \n",
    "* Do the censors only count until a certain time? \n",
    "* What is there such a huge gap between max of North and max of South?\n",
    "* What day had the least amount of bikers?\n",
    "* What day had the most amount of bikers? "
   ]
  },
  {
   "cell_type": "markdown",
   "metadata": {},
   "source": [
    "## Awknowledgements "
   ]
  },
  {
   "cell_type": "markdown",
   "metadata": {},
   "source": [
    "I have a lot of awknowlegdments! First I want to give myself a shoutout for using the code that I got from Ms. Scoyners for the last lab. Shoutout Ms. Scoyners for giving me the code so I can use it for this lab. Shoutout Ziah for helping me fix errors in my code. Finally, thanks Theo for responding to my snapchat and helping me try and figure out why my code wasn't working. Another huge shoutout to Ms. Sconyers for literally taking her entire free period to help me figure out what was wrong with my file. It took a very long time but I am very thankful for her time and her patience when it wouldn't work. Also, thank you to Ms. Sconyers for teaching me some new code that we will need for the data cleaning lab!  "
   ]
  }
 ],
 "metadata": {
  "kernelspec": {
   "display_name": "Python 3",
   "language": "python",
   "name": "python3"
  },
  "language_info": {
   "codemirror_mode": {
    "name": "ipython",
    "version": 3
   },
   "file_extension": ".py",
   "mimetype": "text/x-python",
   "name": "python",
   "nbconvert_exporter": "python",
   "pygments_lexer": "ipython3",
   "version": "3.7.3"
  }
 },
 "nbformat": 4,
 "nbformat_minor": 2
}
